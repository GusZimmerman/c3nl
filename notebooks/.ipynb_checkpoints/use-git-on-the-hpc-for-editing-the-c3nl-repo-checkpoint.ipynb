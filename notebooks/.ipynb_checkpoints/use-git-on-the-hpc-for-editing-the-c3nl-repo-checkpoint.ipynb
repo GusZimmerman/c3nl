{
 "cells": [
  {
   "cell_type": "markdown",
   "metadata": {},
   "source": [
    "# Use git on the HPC for editing the c3nl repository"
   ]
  },
  {
   "cell_type": "markdown",
   "metadata": {},
   "source": [
    "These are instructions for using git on the HPC for the purposes of editing files in the c3nl repository on GitHub ([github.com/c3nl](github.com/c3nl)).\n",
    "\n",
    "If you want to use the files in the c3nl repository, but not edit them, please see other instructions. \n",
    "\n",
    "If you want to use git for your own coding purposes, please see other instructions."
   ]
  },
  {
   "cell_type": "markdown",
   "metadata": {},
   "source": [
    "## Prerequisites\n",
    "You will need:"
   ]
  },
  {
   "cell_type": "markdown",
   "metadata": {},
   "source": [
    "* A college username and email address\n",
    "* An account on the HPC\n",
    "* An account on [GitHub](github.com)\n",
    "* Write access to the c3nl repository on GitHub ([github.com/c3nl](github.com/c3nl))\n"
   ]
  },
  {
   "cell_type": "markdown",
   "metadata": {},
   "source": [
    "## 1. Set up git"
   ]
  },
  {
   "cell_type": "markdown",
   "metadata": {},
   "source": [
    "Set up git on your HPC account. Please see [these](setup-git-on-the-hpc-for-github.ipynb) instructions."
   ]
  },
  {
   "cell_type": "markdown",
   "metadata": {},
   "source": [
    "## 2. Clone the c3nl repository from GitHub into a local repository for the first time"
   ]
  },
  {
   "cell_type": "code",
   "execution_count": null,
   "metadata": {
    "collapsed": true
   },
   "outputs": [],
   "source": [
    "%%bash\n",
    "    rm -fr $HOME/git-repo/c3nl"
   ]
  },
  {
   "cell_type": "code",
   "execution_count": null,
   "metadata": {},
   "outputs": [],
   "source": [
    "%%bash\n",
    "    mkdir -p $HOME/git-repo/c3nl\n",
    "    git clone https://github.com/c3nl/c3nl.git $HOME/git-repo/c3nl"
   ]
  },
  {
   "cell_type": "code",
   "execution_count": null,
   "metadata": {},
   "outputs": [],
   "source": [
    "%%bash\n",
    "    cd $HOME/git-repo/c3nl\n",
    "    git remote -v"
   ]
  },
  {
   "cell_type": "code",
   "execution_count": null,
   "metadata": {},
   "outputs": [],
   "source": [
    "%%bash\n",
    "    ls $HOME/git-repo/c3nl"
   ]
  },
  {
   "cell_type": "markdown",
   "metadata": {},
   "source": [
    "---"
   ]
  },
  {
   "cell_type": "markdown",
   "metadata": {},
   "source": [
    "## 3. Adding and committing new files to the c3nl repository"
   ]
  },
  {
   "cell_type": "markdown",
   "metadata": {},
   "source": [
    "Copy the local file into your local repository."
   ]
  },
  {
   "cell_type": "code",
   "execution_count": null,
   "metadata": {
    "collapsed": true
   },
   "outputs": [],
   "source": [
    "%%bash\n",
    "    cp yourfile $HOME/git-repo/c3nl"
   ]
  },
  {
   "cell_type": "markdown",
   "metadata": {},
   "source": [
    "Stage the file for commit to your local repository."
   ]
  },
  {
   "cell_type": "code",
   "execution_count": 1,
   "metadata": {},
   "outputs": [
    {
     "name": "stderr",
     "output_type": "stream",
     "text": [
      "warning: You ran 'git add' with neither '-A (--all)' or '--ignore-removal',\n",
      "whose behaviour will change in Git 2.0 with respect to paths you removed.\n",
      "Paths like 'using-git-on-hpc-for-editing-c3nl-repo.ipynb' that are\n",
      "removed from your working tree are ignored with this version of Git.\n",
      "\n",
      "* 'git add --ignore-removal <pathspec>', which is the current default,\n",
      "  ignores paths you removed from your working tree.\n",
      "\n",
      "* 'git add --all <pathspec>' will let you also record the removals.\n",
      "\n",
      "Run 'git status' to check the paths you removed from your working tree.\n",
      "\n"
     ]
    }
   ],
   "source": [
    "%%bash\n",
    "    cd $HOME/git-repo/c3nl\n",
    "    git add ."
   ]
  },
  {
   "cell_type": "markdown",
   "metadata": {},
   "source": [
    "Commit the file that you've staged in your local repository."
   ]
  },
  {
   "cell_type": "code",
   "execution_count": null,
   "metadata": {},
   "outputs": [],
   "source": [
    "%%bash\n",
    "    cd $HOME/git-repo/c3nl\n",
    "    git commit -m \"Add new file\""
   ]
  },
  {
   "cell_type": "markdown",
   "metadata": {},
   "source": [
    "Push the changes in your local repository to GitHub."
   ]
  },
  {
   "cell_type": "code",
   "execution_count": null,
   "metadata": {},
   "outputs": [],
   "source": [
    "%%bash\n",
    "    cd $HOME/git-repo/c3nl\n",
    "    git push"
   ]
  },
  {
   "cell_type": "markdown",
   "metadata": {
    "collapsed": true
   },
   "source": [
    "This pushes the changes in your local repository up to the remote repository."
   ]
  },
  {
   "cell_type": "markdown",
   "metadata": {},
   "source": [
    "## 4. Editing and committing existing files in the c3nl repository\n"
   ]
  },
  {
   "cell_type": "code",
   "execution_count": null,
   "metadata": {},
   "outputs": [],
   "source": [
    "%%bash\n",
    "    cd $HOME/git-repo/c3nl\n",
    "    git commit -a"
   ]
  }
 ],
 "metadata": {
  "kernelspec": {
   "display_name": "Python 3",
   "language": "python",
   "name": "python3"
  },
  "language_info": {
   "codemirror_mode": {
    "name": "ipython",
    "version": 3
   },
   "file_extension": ".py",
   "mimetype": "text/x-python",
   "name": "python",
   "nbconvert_exporter": "python",
   "pygments_lexer": "ipython3",
   "version": "3.6.3"
  }
 },
 "nbformat": 4,
 "nbformat_minor": 2
}
