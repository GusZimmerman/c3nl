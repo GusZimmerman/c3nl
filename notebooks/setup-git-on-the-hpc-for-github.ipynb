{
 "cells": [
  {
   "cell_type": "markdown",
   "metadata": {},
   "source": [
    "# Set up git on the HPC for github"
   ]
  },
  {
   "cell_type": "markdown",
   "metadata": {},
   "source": [
    "These are instructions for setting up git on the HPC for the purposes of using [GitHub](github.com) as a repository for your files, and to edit the files in the c3nl GitHub repository ([github.com/c3nl](github.com/c3nl)).\n",
    "\n",
    "If you want to use the files in the c3nl repository, but not edit them, you do not necessarily need to use git. Please see other instructions. "
   ]
  },
  {
   "cell_type": "markdown",
   "metadata": {},
   "source": [
    "## Prerequisites\n",
    "You will need:"
   ]
  },
  {
   "cell_type": "markdown",
   "metadata": {},
   "source": [
    "* A college username and email address\n",
    "* An account on the HPC\n",
    "* An account on [GitHub](github.com)"
   ]
  },
  {
   "cell_type": "markdown",
   "metadata": {},
   "source": [
    "## 1. Setup git"
   ]
  },
  {
   "cell_type": "markdown",
   "metadata": {},
   "source": [
    "git is already installed on the HPC. For basic use, you need only to execute some simple configuration commands.\n",
    "\n",
    "Run the following lines of bash, with your GitHub `USERNAME` and `EMAIL` address."
   ]
  },
  {
   "cell_type": "code",
   "execution_count": null,
   "metadata": {
    "collapsed": true
   },
   "outputs": [],
   "source": [
    "%%bash\n",
    "    git config --global user.name \"USERNAME\"\n",
    "    git config --global user.email EMAIL\n",
    "    git config --global push.default simple"
   ]
  },
  {
   "cell_type": "markdown",
   "metadata": {},
   "source": [
    "You can view all the git configuration information with:"
   ]
  },
  {
   "cell_type": "code",
   "execution_count": null,
   "metadata": {},
   "outputs": [],
   "source": [
    "%%bash\n",
    "    git config --list"
   ]
  },
  {
   "cell_type": "markdown",
   "metadata": {},
   "source": [
    "## Next steps\n"
   ]
  }
 ],
 "metadata": {
  "kernelspec": {
   "display_name": "Python 3",
   "language": "python",
   "name": "python3"
  },
  "language_info": {
   "codemirror_mode": {
    "name": "ipython",
    "version": 3
   },
   "file_extension": ".py",
   "mimetype": "text/x-python",
   "name": "python",
   "nbconvert_exporter": "python",
   "pygments_lexer": "ipython3",
   "version": "3.6.3"
  }
 },
 "nbformat": 4,
 "nbformat_minor": 2
}
