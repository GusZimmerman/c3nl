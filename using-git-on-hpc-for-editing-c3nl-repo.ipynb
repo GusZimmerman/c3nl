{
 "cells": [
  {
   "cell_type": "markdown",
   "metadata": {},
   "source": [
    "# Using git on the HPC for editing the c3nl repository"
   ]
  },
  {
   "cell_type": "markdown",
   "metadata": {},
   "source": [
    "These are instructions on using git for the purposes of editing files in the c3nl repository.\n",
    "If you want to use git for your own coding, please see other instructions."
   ]
  },
  {
   "cell_type": "markdown",
   "metadata": {},
   "source": [
    "## Prerequisites"
   ]
  },
  {
   "cell_type": "markdown",
   "metadata": {},
   "source": [
    "* A college username and email address\n",
    "* An account on the HPC"
   ]
  },
  {
   "cell_type": "markdown",
   "metadata": {},
   "source": [
    "## 1. Setup git"
   ]
  },
  {
   "cell_type": "markdown",
   "metadata": {},
   "source": [
    "Setup git on your account on the HPC."
   ]
  },
  {
   "cell_type": "code",
   "execution_count": 147,
   "metadata": {},
   "outputs": [],
   "source": [
    "%%bash\n",
    "    rm ~/.gitconfig\n",
    "    git config --global user.name \"gregoryscott\"\n",
    "    git config --global user.email gregory.scott99@imperial.ac.uk\n",
    "    git config --global push.default simple"
   ]
  },
  {
   "cell_type": "code",
   "execution_count": 148,
   "metadata": {},
   "outputs": [
    {
     "name": "stdout",
     "output_type": "stream",
     "text": [
      "user.name=gregoryscott\n",
      "user.email=gregory.scott99@imperial.ac.uk\n",
      "push.default=simple\n"
     ]
    }
   ],
   "source": [
    "%%bash\n",
    "    git config --list"
   ]
  },
  {
   "cell_type": "markdown",
   "metadata": {},
   "source": [
    "## 2. Clone the c3nl repository from GitHub into a local repository for the first time"
   ]
  },
  {
   "cell_type": "code",
   "execution_count": 149,
   "metadata": {},
   "outputs": [
    {
     "name": "stdout",
     "output_type": "stream",
     "text": [
      "Cloning into '/home/gps99/git-repo/c3nl'...\n"
     ]
    }
   ],
   "source": [
    "%%bash\n",
    "    rm -fr $HOME/git-repo/c3nl\n",
    "    mkdir -p $HOME/git-repo/c3nl\n",
    "    git clone https://gregogithub.com/c3nl/c3nl.git $HOME/git-repo/c3nl"
   ]
  },
  {
   "cell_type": "code",
   "execution_count": 150,
   "metadata": {},
   "outputs": [
    {
     "name": "stdout",
     "output_type": "stream",
     "text": [
      "origin\thttps://github.com/c3nl/c3nl.git (fetch)\n",
      "origin\thttps://github.com/c3nl/c3nl.git (push)\n"
     ]
    }
   ],
   "source": [
    "%%bash\n",
    "    cd $HOME/git-repo/c3nl\n",
    "    git remote -v"
   ]
  },
  {
   "cell_type": "code",
   "execution_count": 151,
   "metadata": {},
   "outputs": [
    {
     "name": "stdout",
     "output_type": "stream",
     "text": [
      "notebooks\n",
      "README.md\n"
     ]
    }
   ],
   "source": [
    "%%bash\n",
    "    ls $HOME/git-repo/c3nl"
   ]
  },
  {
   "cell_type": "markdown",
   "metadata": {},
   "source": [
    "---"
   ]
  },
  {
   "cell_type": "markdown",
   "metadata": {},
   "source": [
    "## 3. Adding and committing new files to the c3nl repository"
   ]
  },
  {
   "cell_type": "markdown",
   "metadata": {},
   "source": [
    "Copy the local file into your local repository."
   ]
  },
  {
   "cell_type": "code",
   "execution_count": 152,
   "metadata": {},
   "outputs": [],
   "source": [
    "%%bash\n",
    "    cp $HOME/code/jupyter/other/using-git-on-hpc-for-editing-c3nl-repo.ipynb $HOME/git-repo/c3nl"
   ]
  },
  {
   "cell_type": "markdown",
   "metadata": {},
   "source": [
    "Stage the file for commit to your local repository."
   ]
  },
  {
   "cell_type": "code",
   "execution_count": 153,
   "metadata": {
    "collapsed": true
   },
   "outputs": [],
   "source": [
    "%%bash\n",
    "    cd $HOME/git-repo/c3nl\n",
    "    git add ."
   ]
  },
  {
   "cell_type": "markdown",
   "metadata": {},
   "source": [
    "Commit the file that you've staged in your local repository."
   ]
  },
  {
   "cell_type": "code",
   "execution_count": 154,
   "metadata": {},
   "outputs": [
    {
     "name": "stdout",
     "output_type": "stream",
     "text": [
      "[master 003b3e2] Add new file\n",
      " 1 file changed, 316 insertions(+)\n",
      " create mode 100644 using-git-on-hpc-for-editing-c3nl-repo.ipynb\n"
     ]
    }
   ],
   "source": [
    "%%bash\n",
    "    cd $HOME/git-repo/c3nl\n",
    "    git commit -m \"Add new file\""
   ]
  },
  {
   "cell_type": "markdown",
   "metadata": {},
   "source": [
    "Push the changes in your local repository to GitHub."
   ]
  },
  {
   "cell_type": "code",
   "execution_count": 155,
   "metadata": {},
   "outputs": [
    {
     "name": "stderr",
     "output_type": "stream",
     "text": [
      "fatal: could not read Username for 'https://github.com': No such device or address\n"
     ]
    }
   ],
   "source": [
    "%%bash\n",
    "    cd $HOME/git-repo/c3nl\n",
    "    git push"
   ]
  },
  {
   "cell_type": "markdown",
   "metadata": {
    "collapsed": true
   },
   "source": [
    "This pushes the changes in your local repository up to the remote repository."
   ]
  },
  {
   "cell_type": "markdown",
   "metadata": {},
   "source": [
    "## 4. Editing and committing existing files in the c3nl repository\n"
   ]
  },
  {
   "cell_type": "code",
   "execution_count": 16,
   "metadata": {},
   "outputs": [
    {
     "name": "stdout",
     "output_type": "stream",
     "text": [
      "# On branch master\n",
      "nothing to commit, working directory clean\n"
     ]
    }
   ],
   "source": [
    "%%bash\n",
    "    cd $HOME/git-repo/c3nl\n",
    "    git commit -a"
   ]
  }
 ],
 "metadata": {
  "kernelspec": {
   "display_name": "Python 3",
   "language": "python",
   "name": "python3"
  },
  "language_info": {
   "codemirror_mode": {
    "name": "ipython",
    "version": 3
   },
   "file_extension": ".py",
   "mimetype": "text/x-python",
   "name": "python",
   "nbconvert_exporter": "python",
   "pygments_lexer": "ipython3",
   "version": "3.6.3"
  }
 },
 "nbformat": 4,
 "nbformat_minor": 2
}
